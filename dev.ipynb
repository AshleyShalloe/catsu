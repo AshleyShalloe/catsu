{
 "cells": [
  {
   "cell_type": "code",
   "execution_count": null,
   "id": "0",
   "metadata": {},
   "outputs": [],
   "source": [
    "import datetime\n",
    "from time import sleep\n",
    "from main import Catsu\n",
    "\n",
    "c = Catsu(port=\"/dev/ttyUSB0\", baud=38400)"
   ]
  },
  {
   "cell_type": "code",
   "execution_count": null,
   "id": "1",
   "metadata": {},
   "outputs": [],
   "source": [
    "# c.set_freq_human_readable_vfo_a(\"7127000\")\n",
    "# c.read_vfo_a()"
   ]
  },
  {
   "cell_type": "code",
   "execution_count": null,
   "id": "2",
   "metadata": {},
   "outputs": [],
   "source": [
    "# c.set_freq_human_readable_vfo_a(\"145.5M\")\n",
    "# c.read_vfo_a()"
   ]
  },
  {
   "cell_type": "code",
   "execution_count": null,
   "id": "3",
   "metadata": {},
   "outputs": [],
   "source": [
    "#c.vfo_a_to_memory_channel()"
   ]
  },
  {
   "cell_type": "code",
   "execution_count": null,
   "id": "4",
   "metadata": {},
   "outputs": [],
   "source": [
    "# c.set_current_memory_channel(1)\n",
    "# c.get_current_memory_channel()"
   ]
  },
  {
   "cell_type": "code",
   "execution_count": null,
   "id": "5",
   "metadata": {},
   "outputs": [],
   "source": [
    "#c.set_operating_mode(mode=\"LSB\")"
   ]
  },
  {
   "cell_type": "code",
   "execution_count": null,
   "id": "6",
   "metadata": {},
   "outputs": [],
   "source": [
    "#c.set_operating_mode(mode=\"FM\")"
   ]
  },
  {
   "cell_type": "code",
   "execution_count": null,
   "id": "7",
   "metadata": {},
   "outputs": [],
   "source": [
    "c.set_current_memory_channel(4)"
   ]
  },
  {
   "cell_type": "code",
   "execution_count": null,
   "id": "8",
   "metadata": {},
   "outputs": [],
   "source": [
    "c.read_memory_channel(memoryChannel=3)"
   ]
  },
  {
   "cell_type": "code",
   "execution_count": null,
   "id": "9",
   "metadata": {},
   "outputs": [],
   "source": [
    "c.read_memory_channel(memoryChannel=4)"
   ]
  },
  {
   "cell_type": "code",
   "execution_count": null,
   "id": "10",
   "metadata": {},
   "outputs": [],
   "source": [
    "# from time import sleep\n",
    "\n",
    "# cols = [\"BLUE\", \"GRAY\", \"GREEN\", \"ORANGE\", \"PURPLE\", \"RED\", \"SKY BLUE\"]\n",
    "# idx = 0\n",
    "\n",
    "# while True:\n",
    "#     idx += 1\n",
    "#     idx = idx % 7\n",
    "#     print(cols[idx])\n",
    "#     c.set_display_colour(colour=cols[idx])\n",
    "#     sleep(0.5)\n",
    "    "
   ]
  },
  {
   "cell_type": "code",
   "execution_count": null,
   "id": "11",
   "metadata": {},
   "outputs": [],
   "source": [
    "# c.set_display_colour(colour=\"PURPLE\")"
   ]
  },
  {
   "cell_type": "code",
   "execution_count": null,
   "id": "12",
   "metadata": {},
   "outputs": [],
   "source": [
    "# while True:\n",
    "#     time = datetime.datetime.now().strftime(\"%H%M%S0\")\n",
    "#     print(time)\n",
    "#     c.set_freq_human_readable_vfo_a(time)\n",
    "#     sleep(1)"
   ]
  },
  {
   "cell_type": "code",
   "execution_count": null,
   "id": "13",
   "metadata": {},
   "outputs": [],
   "source": [
    "# c.set_repeater_shift(band=\"430\", shift=1600)"
   ]
  },
  {
   "cell_type": "code",
   "execution_count": null,
   "id": "14",
   "metadata": {},
   "outputs": [],
   "source": [
    "c.write_and_tag_memory_channel(\n",
    "        channel=1,\n",
    "        vfo=433350000,\n",
    "        clarifierDirection=\"+\",\n",
    "        clarifierOffset=0,\n",
    "        rxClarifierOn=0,\n",
    "        txClarifierOn=0,\n",
    "        mode=\"FM\",\n",
    "        ctcssDcs=2,\n",
    "        simplexOrShift=1,\n",
    "        tag=\"GB3HR\",\n",
    "    )"
   ]
  },
  {
   "cell_type": "code",
   "execution_count": null,
   "id": "15",
   "metadata": {},
   "outputs": [],
   "source": [
    "c.read_memory_channel_and_tag(channel=1)"
   ]
  }
 ],
 "metadata": {
  "kernelspec": {
   "display_name": "base",
   "language": "python",
   "name": "python3"
  },
  "language_info": {
   "codemirror_mode": {
    "name": "ipython",
    "version": 3
   },
   "file_extension": ".py",
   "mimetype": "text/x-python",
   "name": "python",
   "nbconvert_exporter": "python",
   "pygments_lexer": "ipython3",
   "version": "3.12.2"
  }
 },
 "nbformat": 4,
 "nbformat_minor": 5
}
